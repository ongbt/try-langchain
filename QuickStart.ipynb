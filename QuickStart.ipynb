{
 "cells": [
  {
   "cell_type": "code",
   "execution_count": null,
   "id": "070524bc",
   "metadata": {},
   "outputs": [],
   "source": [
    "# https://python.langchain.com/docs/get_started/quickstart#langsmith\n",
    "# https://smith.langchain.com/o/89fedb3e-3872-5361-b996-cdbc9a90faa7/projects/p/629e2fc2-9276-42b8-a45e-8bf2da6549fa?timeModel=%7B%22duration%22%3A%227d%22%7D&peek=cb8d7e64-e346-461b-9ea7-6c8f9067e8e0\n"
   ]
  },
  {
   "cell_type": "code",
   "execution_count": null,
   "id": "62ad2975",
   "metadata": {},
   "outputs": [],
   "source": [
    "# conda create -n try-langchain\n",
    "# conda activate try-langchain\n",
    "# conda install langchain -c conda-forge\n",
    "# ollama pull llama2\n",
    "# export LANGCHAIN_TRACING_V2=\"true\"\n",
    "# export LANGCHAIN_API_KEY=\"ls__dd7b68fb868d458d84b87fd6918d05e4\"\n",
    "# jupyter notebook\n"
   ]
  },
  {
   "cell_type": "code",
   "execution_count": 1,
   "id": "caf269fd",
   "metadata": {},
   "outputs": [],
   "source": [
    "from langchain_community.llms import Ollama\n",
    "from langchain_core.prompts import ChatPromptTemplate\n",
    "from langchain_core.output_parsers import StrOutputParser\n"
   ]
  },
  {
   "cell_type": "code",
   "execution_count": 3,
   "id": "7b18a44d",
   "metadata": {},
   "outputs": [],
   "source": [
    "\n",
    "prompt = ChatPromptTemplate.from_messages([\n",
    "    (\"system\", \"You are world class technical documentation writer.\"),\n",
    "    (\"user\", \"{input}\")\n",
    "])\n",
    "llm = Ollama(model=\"llama2\")\n",
    "output_parser = StrOutputParser()\n"
   ]
  },
  {
   "cell_type": "code",
   "execution_count": 6,
   "id": "f72ed628",
   "metadata": {},
   "outputs": [
    {
     "data": {
      "text/plain": [
       "\"(The stage is set for a epic rap battle between two of the funniest men on TV. Stephen Colbert and John Oliver stand facing each other, microphones in hand, ready to spit some fire.)\\n\\nStephen Colbert:\\nYo, John, I heard you've been talkin' smack\\nAbout my hair, my wardrobe, and my stack\\nOf Emmy Awards, but let me tell you somethin'\\nI'm the king of late night, and you're just a pretender\\n\\nJohn Oliver:\\nOh, is that so? Well, Stephen, I got news for you\\nMy show's more popular than yours, and that's no bluff\\nI take on the tough issues, while you just mock and play\\nBut when it comes to real journalism, I'm the one who reigns supreme\\n\\nStephen Colbert:\\nHa! You think your show's the only one with some clout?\\nI've got more viewers than you, and they all love me out\\nI'm the master of satire, while you just play the fool\\nMy jokes are sharp as a knife, while yours are dull as a rule\\n\\nJohn Oliver:\\nWell, Stephen, it looks like we have a problem here\\nYour show may be popular, but my show's got more fear\\nI take on the powers that be, while you just make fun of the weak\\nMy rap skills are tighter than a freshly wrapped package deal\\n\\nStephen Colbert:\\nOh, John, you think you're clever with your rhymes?\\nBut when it comes to comedy, I'm the one who shines\\nI've got more Emmys than you, and that's not a lie\\nSo step aside, my man, 'cause I'm takin' the prize\\n\\nJohn Oliver:\\nNot so fast, Stephen! I've got a few tricks up my sleeve\\nMy show may not be flashy, but it's real and it's raw\\nI tackle issues that you wouldn't dare to touch\\nWhile you just make fun of the silly things they do\\n\\n(Both comedians break into fits of laughter)\\n\\nStephen Colbert:\\nJohn, my man, you may have won this round\\nBut I'm still the king of late night, without a doubt\\nI'll keep on making people laugh until my dying day\\nWhile you just keep on talking, in your own special way.\\n\\nJohn Oliver:\\nAww, shucks, Stephen! It looks like we're even!\\nI may not have won this battle, but I'm still the one who's keen\\nTo bring you the news that matters, and make you laugh too\\nSo keep on watching, my friend, 'cause I'm just getting started, boo!\""
      ]
     },
     "execution_count": 6,
     "metadata": {},
     "output_type": "execute_result"
    }
   ],
   "source": [
    "\n",
    "\n",
    "chain = prompt | llm | output_parser\n",
    "\n",
    "\n",
    "chain.invoke({\"input\": \"Simulate a rap battle between Stephen Colbert and John Oliver\"})"
   ]
  },
  {
   "cell_type": "code",
   "execution_count": null,
   "id": "38e10301",
   "metadata": {},
   "outputs": [],
   "source": []
  }
 ],
 "metadata": {
  "kernelspec": {
   "display_name": "Python 3 (ipykernel)",
   "language": "python",
   "name": "python3"
  },
  "language_info": {
   "codemirror_mode": {
    "name": "ipython",
    "version": 3
   },
   "file_extension": ".py",
   "mimetype": "text/x-python",
   "name": "python",
   "nbconvert_exporter": "python",
   "pygments_lexer": "ipython3",
   "version": "3.11.4"
  }
 },
 "nbformat": 4,
 "nbformat_minor": 5
}
