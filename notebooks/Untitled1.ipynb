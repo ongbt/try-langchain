{
 "cells": [
  {
   "cell_type": "code",
   "execution_count": null,
   "id": "920bcb12",
   "metadata": {},
   "outputs": [],
   "source": [
    "from langchain.community.llms.ollama import Ollama\n",
    "from langchain.text_splitter import RecursiveCharacterTextSplitter\n",
    "from langchain.document_loaders.web.cheerio import CheerioWebBaseLoader\n",
    "from langchain.community.embeddings.ollama import OllamaEmbeddings\n",
    "from langchain.vectorstores.memory import MemoryVectorStore\n",
    "from langchain.document_loaders.fs.directory import DirectoryLoader\n",
    "from langchain.document_loaders.fs.pdf import PDFLoader\n",
    "from langchain.document_loaders.fs.docx import DocxLoader\n",
    "from langchain.document_loaders.fs.csv import CSVLoader\n",
    "from langchain.document_loaders.fs.text import TextLoader\n",
    "\n",
    "# Load all PDFs within the specified directory\n",
    "# NOTE: results are logged to LangSmith if configured\n",
    "directory_loader = DirectoryLoader(\n",
    "    \"/Users/ongbt/Downloads/psdsrc\",\n",
    "    {\n",
    "        \".pdf\": lambda path: PDFLoader(path),\n",
    "        \".docx\": lambda path: DocxLoader(path),\n",
    "        \".csv\": lambda path: CSVLoader(path, \"text\"),\n",
    "        \".txt\": lambda path: TextLoader(path),\n",
    "    }\n",
    ")\n",
    "\n",
    "docs = directory_loader.load()\n",
    "\n",
    "# Additional steps: Split text into chunks with any TextSplitter. You can then use it as context or save it to memory afterwards.\n",
    "text_splitter = RecursiveCharacterTextSplitter(chunkSize=1000, chunkOverlap=200)\n",
    "\n",
    "split_docs = text_splitter.splitDocuments(docs)\n",
    "\n",
    "embeddings = OllamaEmbeddings()\n",
    "vector_store = MemoryVectorStore.fromDocuments(split_docs, embeddings)\n",
    "\n",
    "retriever = vector_store.asRetriever(4)\n",
    "docs3 = retriever.invoke(\"what are the 13 measures?\")\n",
    "print(docs3)\n"
   ]
  }
 ],
 "metadata": {
  "kernelspec": {
   "display_name": "Python 3 (ipykernel)",
   "language": "python",
   "name": "python3"
  },
  "language_info": {
   "codemirror_mode": {
    "name": "ipython",
    "version": 3
   },
   "file_extension": ".py",
   "mimetype": "text/x-python",
   "name": "python",
   "nbconvert_exporter": "python",
   "pygments_lexer": "ipython3",
   "version": "3.11.4"
  }
 },
 "nbformat": 4,
 "nbformat_minor": 5
}
