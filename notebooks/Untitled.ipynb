{
 "cells": [
  {
   "cell_type": "code",
   "execution_count": 11,
   "id": "319c66bb",
   "metadata": {},
   "outputs": [
    {
     "name": "stderr",
     "output_type": "stream",
     "text": [
      "Error in LangChainTracer.on_chain_start callback: LangSmithConnectionError('Connection error caused failure to post https://api.smith.langchain.com/runs  in LangSmith API. Please confirm your LANGCHAIN_ENDPOINT. SSLError(MaxRetryError(\"HTTPSConnectionPool(host=\\'api.smith.langchain.com\\', port=443): Max retries exceeded with url: /runs (Caused by SSLError(SSLCertVerificationError(1, \\'[SSL: CERTIFICATE_VERIFY_FAILED] certificate verify failed: unable to get local issuer certificate (_ssl.c:1002)\\')))\"))')\n",
      "Error in LangChainTracer.on_chain_start callback: LangSmithConnectionError('Connection error caused failure to post https://api.smith.langchain.com/runs  in LangSmith API. Please confirm your LANGCHAIN_ENDPOINT. SSLError(MaxRetryError(\"HTTPSConnectionPool(host=\\'api.smith.langchain.com\\', port=443): Max retries exceeded with url: /runs (Caused by SSLError(SSLCertVerificationError(1, \\'[SSL: CERTIFICATE_VERIFY_FAILED] certificate verify failed: unable to get local issuer certificate (_ssl.c:1002)\\')))\"))')\n",
      "Error in LangChainTracer.on_chain_end callback: LangSmithConnectionError('Connection error caused failure to patch https://api.smith.langchain.com/runs/ca23b254-6958-48fc-b1c0-f02577fd5c15  in LangSmith API. Please confirm your LANGCHAIN_ENDPOINT. SSLError(MaxRetryError(\"HTTPSConnectionPool(host=\\'api.smith.langchain.com\\', port=443): Max retries exceeded with url: /runs/ca23b254-6958-48fc-b1c0-f02577fd5c15 (Caused by SSLError(SSLCertVerificationError(1, \\'[SSL: CERTIFICATE_VERIFY_FAILED] certificate verify failed: unable to get local issuer certificate (_ssl.c:1002)\\')))\"))')\n",
      "Error in LangChainTracer.on_llm_start callback: LangSmithConnectionError('Connection error caused failure to post https://api.smith.langchain.com/runs  in LangSmith API. Please confirm your LANGCHAIN_ENDPOINT. SSLError(MaxRetryError(\"HTTPSConnectionPool(host=\\'api.smith.langchain.com\\', port=443): Max retries exceeded with url: /runs (Caused by SSLError(SSLCertVerificationError(1, \\'[SSL: CERTIFICATE_VERIFY_FAILED] certificate verify failed: unable to get local issuer certificate (_ssl.c:1002)\\')))\"))')\n",
      "Error in LangChainTracer.on_llm_end callback: LangSmithConnectionError('Connection error caused failure to patch https://api.smith.langchain.com/runs/75b53c05-29d9-4d18-8ab5-f0ba45e9d34f  in LangSmith API. Please confirm your LANGCHAIN_ENDPOINT. SSLError(MaxRetryError(\"HTTPSConnectionPool(host=\\'api.smith.langchain.com\\', port=443): Max retries exceeded with url: /runs/75b53c05-29d9-4d18-8ab5-f0ba45e9d34f (Caused by SSLError(SSLCertVerificationError(1, \\'[SSL: CERTIFICATE_VERIFY_FAILED] certificate verify failed: unable to get local issuer certificate (_ssl.c:1002)\\')))\"))')\n",
      "Error in LangChainTracer.on_chain_end callback: LangSmithConnectionError('Connection error caused failure to patch https://api.smith.langchain.com/runs/77b2b03e-3642-45b7-ab61-737f635d8531  in LangSmith API. Please confirm your LANGCHAIN_ENDPOINT. SSLError(MaxRetryError(\"HTTPSConnectionPool(host=\\'api.smith.langchain.com\\', port=443): Max retries exceeded with url: /runs/77b2b03e-3642-45b7-ab61-737f635d8531 (Caused by SSLError(SSLCertVerificationError(1, \\'[SSL: CERTIFICATE_VERIFY_FAILED] certificate verify failed: unable to get local issuer certificate (_ssl.c:1002)\\')))\"))')\n"
     ]
    },
    {
     "data": {
      "text/plain": [
       "\"\\nSubject: Unacceptable Service at [Restaurant Name] - Demanding Full Refund\\n\\nDear [Restaurant Manager's Name],\\n\\nI hope this email finds you well. However, I must express my utmost disappointment and frustration with the subpar service I received during my recent visit to your esteemed establishment, [Restaurant Name]. As a seasoned customer and a connoisseur of fine dining experiences, I expect nothing but the highest quality in terms of food, ambiance, and service. Unfortunately, my experience at your restaurant fell short of these standards in several crucial aspects.\\n\\nFirstly, the service was unacceptably slow and disorganized. Our server seemed overwhelmed and struggling to keep up with the demands of the table, resulting in a significant delay in our meal delivery. This lack of attention to detail and poor time management is simply not acceptable for a restaurant of your caliber.\\n\\nFurthermore, the quality of the food was also underwhelming. The dishes we ordered were overcooked, overseasoned, and lacked the freshness and flavor that I have come to expect from your establishment. As a paying customer, I demand nothing but the best, and the meals we received fell far short of my standards.\\n\\nIn light of these unfortunate experiences, I am requesting a full refund for my visit to [Restaurant Name]. I understand that mistakes can happen, but the combination of poor service and subpar food is simply not justifiable. As a prominent figure in Singapore's culinary scene, I expect nothing but the highest level of professionalism and excellence from your establishment.\\n\\nI hope you will take my complaints seriously and take immediate action to address these issues. A full refund for my visit is the least that I deserve, and I will not hesitate to share my disappointment with friends, family, and colleagues if this matter is not resolved satisfactorily.\\n\\nPlease do not hesitate to contact me should you require any additional information or clarification regarding my complaint. I await your prompt response and resolution to this matter.\\n\\nSincerely,\\n\\n[Your Name]\""
      ]
     },
     "execution_count": 11,
     "metadata": {},
     "output_type": "execute_result"
    }
   ],
   "source": [
    "from langchain_community.llms.ollama import Ollama\n",
    "\n",
    "# Assuming you have a similar module for prompts and its relevant function\n",
    "from langchain_core.prompts import PromptTemplate\n",
    "\n",
    "\n",
    "engine = Ollama( \n",
    "    model=\"llama2\" # Default value\n",
    ")\n",
    "\n",
    "prompt_template = PromptTemplate.from_template(\n",
    "    \"{topic}. Write like lee kwan yew\"\n",
    ")\n",
    "\n",
    "chain = prompt_template.pipe(engine)\n",
    "stream = chain.invoke(\n",
    "    {\"topic\": \"compose an email to complain about a bad restaurant service. Write it so that i can get a full refund\"}\n",
    ")\n",
    "\n",
    "stream\n"
   ]
  },
  {
   "cell_type": "code",
   "execution_count": null,
   "id": "be05dd35",
   "metadata": {},
   "outputs": [],
   "source": []
  }
 ],
 "metadata": {
  "kernelspec": {
   "display_name": "Python 3 (ipykernel)",
   "language": "python",
   "name": "python3"
  },
  "language_info": {
   "codemirror_mode": {
    "name": "ipython",
    "version": 3
   },
   "file_extension": ".py",
   "mimetype": "text/x-python",
   "name": "python",
   "nbconvert_exporter": "python",
   "pygments_lexer": "ipython3",
   "version": "3.11.4"
  }
 },
 "nbformat": 4,
 "nbformat_minor": 5
}
